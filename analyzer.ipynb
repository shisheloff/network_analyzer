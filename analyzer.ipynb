{
 "cells": [
  {
   "cell_type": "markdown",
   "source": [
    "Для корректной работы программы в ячейке ниже в переменную *traffic_file* нужно указать путь до файла (если он не в одной директории) и сам файл csv формата."
   ],
   "metadata": {
    "collapsed": false
   }
  },
  {
   "cell_type": "code",
   "execution_count": null,
   "outputs": [],
   "source": [
    "import pandas as pd\n",
    "import matplotlib.pyplot as plt\n",
    "import networkx as nx\n",
    "traffic_file = \"test.csv\"\n",
    "df = pd.read_csv(traffic_file)"
   ],
   "metadata": {
    "collapsed": false
   }
  },
  {
   "cell_type": "markdown",
   "source": [
    "Топ протоколов, по которым идет взаимодействие"
   ],
   "metadata": {
    "collapsed": false
   }
  },
  {
   "cell_type": "code",
   "execution_count": null,
   "outputs": [],
   "source": [
    "top_protocol = df.groupby('Protocol').Source.count()\n",
    "top_protocol = top_protocol.sort_values(ascending=False)\n",
    "top_protocol"
   ],
   "metadata": {
    "collapsed": false
   }
  },
  {
   "cell_type": "markdown",
   "source": [
    "Топ отправителей пакетов"
   ],
   "metadata": {
    "collapsed": false
   }
  },
  {
   "cell_type": "code",
   "execution_count": null,
   "outputs": [],
   "source": [
    "top_source = df.groupby('Source').Source.count()\n",
    "top_source = top_source.sort_values(ascending=False)\n",
    "top_source"
   ],
   "metadata": {
    "collapsed": false
   }
  },
  {
   "cell_type": "markdown",
   "source": [
    "Топ получателей пакетов"
   ],
   "metadata": {
    "collapsed": false
   }
  },
  {
   "cell_type": "code",
   "execution_count": null,
   "outputs": [],
   "source": [
    "top_destination = df.groupby('Destination').Source.count()\n",
    "top_destination = top_destination.sort_values(ascending=False)\n",
    "top_destination"
   ],
   "metadata": {
    "collapsed": false
   }
  },
  {
   "cell_type": "markdown",
   "source": [
    "Выводим графы взаимосвязей хостов(кто с кем контактировал)"
   ],
   "metadata": {
    "collapsed": false
   }
  },
  {
   "cell_type": "code",
   "execution_count": null,
   "outputs": [],
   "source": [
    "network = nx.from_pandas_edgelist(df.head(100), source='Source', target='Destination', edge_attr=True)\n",
    "network.nodes()\n",
    "network.edges()\n",
    "nx.draw_circular(network, with_labels=True)\n",
    "plt.show()"
   ],
   "metadata": {
    "collapsed": false
   }
  },
  {
   "cell_type": "markdown",
   "source": [
    "Необходимо ввести в *suspect_ip* ip-адрес хоста, по которому хотим получить информацию"
   ],
   "metadata": {
    "collapsed": false
   }
  },
  {
   "cell_type": "markdown",
   "source": [
    "Получение информации, с кем подозрительный хост контактировал"
   ],
   "metadata": {
    "collapsed": false
   }
  },
  {
   "cell_type": "code",
   "execution_count": null,
   "outputs": [],
   "source": [
    "suspect_ip = \"192.168.1.100\"\n",
    "dst = df.loc[df['Source'] == suspect_ip]\n",
    "top_dst = dst.groupby('Destination').Source.count()\n",
    "top_dst = top_dst.sort_values(ascending=False)\n",
    "top_dst.plot(kind='barh', xlabel='Count', ylabel='Contacted IP')\n",
    "plt.show()\n",
    "print(top_dst)"
   ],
   "metadata": {
    "collapsed": false,
    "pycharm": {
     "is_executing": true
    }
   }
  },
  {
   "cell_type": "code",
   "execution_count": null,
   "outputs": [],
   "source": [
    "suspect_ip = \"192.168.1.100\"\n",
    "dst = df.loc[df['Destination'] == suspect_ip]\n",
    "top_src = dst.groupby('Source').Source.count()\n",
    "top_src = top_src.sort_values(ascending=False)\n",
    "top_src.plot(kind='barh', xlabel='Count', ylabel='Contacted IP')\n",
    "plt.show()\n",
    "print(top_src)"
   ],
   "metadata": {
    "collapsed": false,
    "pycharm": {
     "is_executing": true
    }
   }
  },
  {
   "cell_type": "markdown",
   "source": [
    "Граф взаимосвязей подозрителнього хоста с другими хостами"
   ],
   "metadata": {
    "collapsed": false
   }
  },
  {
   "cell_type": "code",
   "execution_count": null,
   "outputs": [],
   "source": [
    "pos = nx.spring_layout(network)\n",
    "nx.draw(network, pos, node_color = \"green\", node_size = 300, with_labels=True)\n",
    "options = {\"node_size\": 1000, \"node_color\": \"r\"}\n",
    "nx.draw_networkx_nodes(network, pos, nodelist=[suspect_ip], **options)\n",
    "plt.show()"
   ],
   "metadata": {
    "collapsed": false
   }
  },
  {
   "cell_type": "code",
   "execution_count": null,
   "outputs": [],
   "source": [],
   "metadata": {
    "collapsed": false
   }
  }
 ],
 "metadata": {
  "kernelspec": {
   "display_name": "Python 3",
   "language": "python",
   "name": "python3"
  },
  "language_info": {
   "codemirror_mode": {
    "name": "ipython",
    "version": 2
   },
   "file_extension": ".py",
   "mimetype": "text/x-python",
   "name": "python",
   "nbconvert_exporter": "python",
   "pygments_lexer": "ipython2",
   "version": "2.7.6"
  }
 },
 "nbformat": 4,
 "nbformat_minor": 0
}
